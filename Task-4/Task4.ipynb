{
  "nbformat": 4,
  "nbformat_minor": 0,
  "metadata": {
    "colab": {
      "provenance": []
    },
    "kernelspec": {
      "name": "python3",
      "display_name": "Python 3"
    },
    "language_info": {
      "name": "python"
    }
  },
  "cells": [
    {
      "cell_type": "markdown",
      "source": [
        "**Introduction**\n",
        "\n",
        "Python is a high-level, general-purpose programming language. It supports multiple programming paradigms, including procedural, object-oriented, and functional programming. Python is widely used for web development, data\n",
        "analysis, scientific computing, artificial intelligence, and more."
      ],
      "metadata": {
        "id": "atAEIVVYmHrj"
      }
    },
    {
      "cell_type": "markdown",
      "source": [
        "**Syntax**\n",
        "\n",
        "Python syntax is easy to read and write.Comments start with #."
      ],
      "metadata": {
        "id": "R0xHwEZSnK5I"
      }
    },
    {
      "cell_type": "code",
      "source": [
        "print(\"Hello, World!\")\n"
      ],
      "metadata": {
        "colab": {
          "base_uri": "https://localhost:8080/"
        },
        "id": "zIN5uXHHmrjR",
        "outputId": "7295ad2c-3b43-4d41-b555-94925a40a6b0"
      },
      "execution_count": 1,
      "outputs": [
        {
          "output_type": "stream",
          "name": "stdout",
          "text": [
            "Hello, World!\n"
          ]
        }
      ]
    },
    {
      "cell_type": "code",
      "source": [
        "#Variables (int,float,string,bool)\n",
        "\n",
        "a=10\n",
        "b=3.4\n",
        "c=\"Hello\"\n",
        "d=True\n",
        "\n",
        "print(a)\n",
        "print(b)\n",
        "print(c)\n",
        "print(d)"
      ],
      "metadata": {
        "colab": {
          "base_uri": "https://localhost:8080/"
        },
        "id": "CDisa9HToKvG",
        "outputId": "4725e939-c840-4045-c7da-87487b0d67f1"
      },
      "execution_count": 2,
      "outputs": [
        {
          "output_type": "stream",
          "name": "stdout",
          "text": [
            "10\n",
            "3.4\n",
            "Hello\n",
            "True\n"
          ]
        }
      ]
    },
    {
      "cell_type": "code",
      "source": [
        "#IF condition\n",
        "a=20\n",
        "b=10\n",
        "if a>b:\n",
        "  print(\"a is greater than b\")"
      ],
      "metadata": {
        "colab": {
          "base_uri": "https://localhost:8080/"
        },
        "id": "-jpjVX_lov1Q",
        "outputId": "e9f9a521-0ae0-46b2-d476-075369a96b8d"
      },
      "execution_count": 4,
      "outputs": [
        {
          "output_type": "stream",
          "name": "stdout",
          "text": [
            "a is greater than b\n"
          ]
        }
      ]
    },
    {
      "cell_type": "code",
      "source": [
        "#IF ElSE condition\n",
        "a=20\n",
        "b=10\n",
        "if a>b:\n",
        "  print(\"a is greater than b\")\n",
        "else:\n",
        "  print(\"b is greater than a\")"
      ],
      "metadata": {
        "colab": {
          "base_uri": "https://localhost:8080/"
        },
        "id": "SMOyzg6PpKSE",
        "outputId": "a72391cf-503d-4d5d-9f9d-0779720103a6"
      },
      "execution_count": 5,
      "outputs": [
        {
          "output_type": "stream",
          "name": "stdout",
          "text": [
            "a is greater than b\n"
          ]
        }
      ]
    },
    {
      "cell_type": "code",
      "source": [
        "#IF ElIF condition\n",
        "a=20\n",
        "b=20\n",
        "if a>b:\n",
        "  print(\"a is greater than b\")\n",
        "elif a==b:\n",
        "  print(\"a is equal to b\")\n",
        "else:\n",
        "  print(\"b is greater than a\")"
      ],
      "metadata": {
        "colab": {
          "base_uri": "https://localhost:8080/"
        },
        "id": "oZpGLgzVpmWE",
        "outputId": "fb1f2a48-fc5a-4e2b-979b-67f71fa12a52"
      },
      "execution_count": 6,
      "outputs": [
        {
          "output_type": "stream",
          "name": "stdout",
          "text": [
            "a is equal to b\n"
          ]
        }
      ]
    },
    {
      "cell_type": "code",
      "source": [
        "#Arithmetic Operators\n",
        "a=10\n",
        "b=5\n",
        "print(a+b)\n",
        "print(a-b)\n",
        "print(a*b)\n",
        "print(a/b)"
      ],
      "metadata": {
        "colab": {
          "base_uri": "https://localhost:8080/"
        },
        "id": "kyTrBMwVqIxN",
        "outputId": "ac81c2ef-d51b-4c39-f005-51c194283139"
      },
      "execution_count": 7,
      "outputs": [
        {
          "output_type": "stream",
          "name": "stdout",
          "text": [
            "15\n",
            "5\n",
            "50\n",
            "2.0\n"
          ]
        }
      ]
    },
    {
      "cell_type": "code",
      "source": [
        "#Comparison Operators\n",
        "a=10\n",
        "b=5\n",
        "print(a>b)\n",
        "print(a<b)\n",
        "print(a==b)\n",
        "print(a!=b)"
      ],
      "metadata": {
        "colab": {
          "base_uri": "https://localhost:8080/"
        },
        "id": "aPACcMhJqSWx",
        "outputId": "097d945e-f061-49a8-c4c7-49430886aa49"
      },
      "execution_count": 8,
      "outputs": [
        {
          "output_type": "stream",
          "name": "stdout",
          "text": [
            "True\n",
            "False\n",
            "False\n",
            "True\n"
          ]
        }
      ]
    },
    {
      "cell_type": "code",
      "source": [
        "#Logical Operators\n",
        "a=10\n",
        "b=5\n",
        "if(a>b and a==10):\n",
        "  print(\"a is greater than b and equal to 10\")\n",
        "if(a>b or a==10):\n",
        "  print(\"a is greater than b or equal to 10\")\n",
        "if(not a==10):\n",
        "  print(\"a is not equal to 10\")"
      ],
      "metadata": {
        "colab": {
          "base_uri": "https://localhost:8080/"
        },
        "id": "8a_TqU1sqiYW",
        "outputId": "8264ef32-0eb7-46b0-cc84-d4cdfcd9b9b7"
      },
      "execution_count": 9,
      "outputs": [
        {
          "output_type": "stream",
          "name": "stdout",
          "text": [
            "a is greater than b and equal to 10\n",
            "a is greater than b or equal to 10\n"
          ]
        }
      ]
    }
  ]
}