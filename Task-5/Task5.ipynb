{
  "nbformat": 4,
  "nbformat_minor": 0,
  "metadata": {
    "colab": {
      "provenance": []
    },
    "kernelspec": {
      "name": "python3",
      "display_name": "Python 3"
    },
    "language_info": {
      "name": "python"
    }
  },
  "cells": [
    {
      "cell_type": "markdown",
      "source": [
        "**Built-in Python Data Structures**"
      ],
      "metadata": {
        "id": "zHsGXIKMvtVr"
      }
    },
    {
      "cell_type": "code",
      "source": [
        "#Tuple\n",
        "tup = (1,2,3)\n",
        "print(tup)"
      ],
      "metadata": {
        "colab": {
          "base_uri": "https://localhost:8080/"
        },
        "id": "V44d_DMQv81X",
        "outputId": "010efe49-7c29-4c9b-98f7-7e6a5ef18b82"
      },
      "execution_count": 1,
      "outputs": [
        {
          "output_type": "stream",
          "name": "stdout",
          "text": [
            "(1, 2, 3)\n"
          ]
        }
      ]
    },
    {
      "cell_type": "code",
      "source": [
        "tup = 4,5,6\n",
        "print(tup)"
      ],
      "metadata": {
        "colab": {
          "base_uri": "https://localhost:8080/"
        },
        "id": "8jfYYs69x2lc",
        "outputId": "15fe6ac3-112d-49e8-bb7a-13d6451388b7"
      },
      "execution_count": 2,
      "outputs": [
        {
          "output_type": "stream",
          "name": "stdout",
          "text": [
            "(4, 5, 6)\n"
          ]
        }
      ]
    },
    {
      "cell_type": "code",
      "source": [
        "tuple([9,0,4])"
      ],
      "metadata": {
        "colab": {
          "base_uri": "https://localhost:8080/"
        },
        "id": "T8anAHT3x9TJ",
        "outputId": "8166e04e-bd6e-41b2-b42f-07e992a4868b"
      },
      "execution_count": 3,
      "outputs": [
        {
          "output_type": "execute_result",
          "data": {
            "text/plain": [
              "(9, 0, 4)"
            ]
          },
          "metadata": {},
          "execution_count": 3
        }
      ]
    },
    {
      "cell_type": "code",
      "source": [
        "tup = tuple('python')\n",
        "print(tup)"
      ],
      "metadata": {
        "colab": {
          "base_uri": "https://localhost:8080/"
        },
        "id": "DTy9Si1_yIiN",
        "outputId": "bf78d57c-1a67-470c-f975-1699ac2b72e0"
      },
      "execution_count": 4,
      "outputs": [
        {
          "output_type": "stream",
          "name": "stdout",
          "text": [
            "('p', 'y', 't', 'h', 'o', 'n')\n"
          ]
        }
      ]
    },
    {
      "cell_type": "code",
      "source": [
        "print(tup[2])"
      ],
      "metadata": {
        "colab": {
          "base_uri": "https://localhost:8080/"
        },
        "id": "-S6vATQfyRmw",
        "outputId": "cd5b064a-c113-43c0-9502-995fb991d3eb"
      },
      "execution_count": 5,
      "outputs": [
        {
          "output_type": "stream",
          "name": "stdout",
          "text": [
            "t\n"
          ]
        }
      ]
    },
    {
      "cell_type": "code",
      "source": [
        "nested_tup = (4,0,3),(5,5)\n",
        "print(nested_tup[1])"
      ],
      "metadata": {
        "colab": {
          "base_uri": "https://localhost:8080/"
        },
        "id": "GFgKcLQ6yaIU",
        "outputId": "7eea02bb-c66a-4100-b133-229f661693d2"
      },
      "execution_count": 6,
      "outputs": [
        {
          "output_type": "stream",
          "name": "stdout",
          "text": [
            "(5, 5)\n"
          ]
        }
      ]
    },
    {
      "cell_type": "code",
      "source": [
        "tup = tuple(['foo',[1,2],True])\n",
        "tup[2] = False #Error tuple does not support item assignment"
      ],
      "metadata": {
        "colab": {
          "base_uri": "https://localhost:8080/",
          "height": 159
        },
        "id": "ts4BiFDsytAw",
        "outputId": "0a2e7992-3ea3-4f4b-9933-82d214f54db2"
      },
      "execution_count": 7,
      "outputs": [
        {
          "output_type": "error",
          "ename": "TypeError",
          "evalue": "'tuple' object does not support item assignment",
          "traceback": [
            "\u001b[0;31m---------------------------------------------------------------------------\u001b[0m",
            "\u001b[0;31mTypeError\u001b[0m                                 Traceback (most recent call last)",
            "\u001b[0;32m<ipython-input-7-bff9d66228e8>\u001b[0m in \u001b[0;36m<cell line: 2>\u001b[0;34m()\u001b[0m\n\u001b[1;32m      1\u001b[0m \u001b[0mtup\u001b[0m \u001b[0;34m=\u001b[0m \u001b[0mtuple\u001b[0m\u001b[0;34m(\u001b[0m\u001b[0;34m[\u001b[0m\u001b[0;34m'foo'\u001b[0m\u001b[0;34m,\u001b[0m\u001b[0;34m[\u001b[0m\u001b[0;36m1\u001b[0m\u001b[0;34m,\u001b[0m\u001b[0;36m2\u001b[0m\u001b[0;34m]\u001b[0m\u001b[0;34m,\u001b[0m\u001b[0;32mTrue\u001b[0m\u001b[0;34m]\u001b[0m\u001b[0;34m)\u001b[0m\u001b[0;34m\u001b[0m\u001b[0;34m\u001b[0m\u001b[0m\n\u001b[0;32m----> 2\u001b[0;31m \u001b[0mtup\u001b[0m\u001b[0;34m[\u001b[0m\u001b[0;36m2\u001b[0m\u001b[0;34m]\u001b[0m \u001b[0;34m=\u001b[0m \u001b[0;32mFalse\u001b[0m\u001b[0;34m\u001b[0m\u001b[0;34m\u001b[0m\u001b[0m\n\u001b[0m",
            "\u001b[0;31mTypeError\u001b[0m: 'tuple' object does not support item assignment"
          ]
        }
      ]
    },
    {
      "cell_type": "code",
      "source": [
        "tup[1].append(4)\n",
        "print(tup)"
      ],
      "metadata": {
        "colab": {
          "base_uri": "https://localhost:8080/"
        },
        "id": "ZSq7aEXLy66q",
        "outputId": "48a091b1-3901-4ab3-f834-43925de79c3d"
      },
      "execution_count": 8,
      "outputs": [
        {
          "output_type": "stream",
          "name": "stdout",
          "text": [
            "('foo', [1, 2, 4], True)\n"
          ]
        }
      ]
    },
    {
      "cell_type": "code",
      "source": [
        "(4,None,'foo') + (6,0)"
      ],
      "metadata": {
        "colab": {
          "base_uri": "https://localhost:8080/"
        },
        "id": "66nx06KYzSzg",
        "outputId": "b51983fb-26b0-41e6-b1e8-de5385faf858"
      },
      "execution_count": 9,
      "outputs": [
        {
          "output_type": "execute_result",
          "data": {
            "text/plain": [
              "(4, None, 'foo', 6, 0)"
            ]
          },
          "metadata": {},
          "execution_count": 9
        }
      ]
    },
    {
      "cell_type": "code",
      "source": [
        "('cool','word')*3"
      ],
      "metadata": {
        "colab": {
          "base_uri": "https://localhost:8080/"
        },
        "id": "A9TIMN81zggf",
        "outputId": "fb884565-45f7-4e07-b975-b5e9c8d0b7f0"
      },
      "execution_count": 11,
      "outputs": [
        {
          "output_type": "execute_result",
          "data": {
            "text/plain": [
              "('cool', 'word', 'cool', 'word', 'cool', 'word')"
            ]
          },
          "metadata": {},
          "execution_count": 11
        }
      ]
    },
    {
      "cell_type": "code",
      "source": [
        "#Unpacking tuples\n",
        "tup = (3,2,0)\n",
        "a,b,c = tup\n",
        "print(b)"
      ],
      "metadata": {
        "colab": {
          "base_uri": "https://localhost:8080/"
        },
        "id": "UYlQLU3kz9B6",
        "outputId": "14bc9528-12d9-442d-f725-215b0cfd4b7b"
      },
      "execution_count": 12,
      "outputs": [
        {
          "output_type": "stream",
          "name": "stdout",
          "text": [
            "2\n"
          ]
        }
      ]
    },
    {
      "cell_type": "code",
      "source": [
        "tup = 1,2,(8,9)\n",
        "a,b,(c,d) = tup\n",
        "print(d)"
      ],
      "metadata": {
        "colab": {
          "base_uri": "https://localhost:8080/"
        },
        "id": "V9HChpbL0Orx",
        "outputId": "4b59e880-139e-4f1d-d370-2c978813cf39"
      },
      "execution_count": 13,
      "outputs": [
        {
          "output_type": "stream",
          "name": "stdout",
          "text": [
            "9\n"
          ]
        }
      ]
    },
    {
      "cell_type": "code",
      "source": [
        "seq = [(1,2,3),(4,5,6),(7,8,9)]\n",
        "for a,b,c in seq:\n",
        "  print(f'a={0},b={1},c={2}')"
      ],
      "metadata": {
        "colab": {
          "base_uri": "https://localhost:8080/"
        },
        "id": "kBRilzsA0eIe",
        "outputId": "5bd14384-a5b6-4c6c-9187-1b1e75813eba"
      },
      "execution_count": 15,
      "outputs": [
        {
          "output_type": "stream",
          "name": "stdout",
          "text": [
            "a=0,b=1,c=2\n",
            "a=0,b=1,c=2\n",
            "a=0,b=1,c=2\n"
          ]
        }
      ]
    },
    {
      "cell_type": "code",
      "source": [
        "values = 1,2,3,4,5\n",
        "a,b,*rest = values\n",
        "print(a,b)\n",
        "print(rest)"
      ],
      "metadata": {
        "colab": {
          "base_uri": "https://localhost:8080/"
        },
        "id": "5lyud_0C0uOK",
        "outputId": "dc512eff-4297-4056-e5e5-96d70f953f87"
      },
      "execution_count": 16,
      "outputs": [
        {
          "output_type": "stream",
          "name": "stdout",
          "text": [
            "1 2\n",
            "[3, 4, 5]\n"
          ]
        }
      ]
    },
    {
      "cell_type": "code",
      "source": [
        "#Tuple methods\n",
        "a = (1,2,3,3,5)\n",
        "a.count(3)"
      ],
      "metadata": {
        "colab": {
          "base_uri": "https://localhost:8080/"
        },
        "id": "P6pVlCEQ03KB",
        "outputId": "7ecaa063-c814-458b-9e1c-76a8c99b4f9a"
      },
      "execution_count": 17,
      "outputs": [
        {
          "output_type": "execute_result",
          "data": {
            "text/plain": [
              "2"
            ]
          },
          "metadata": {},
          "execution_count": 17
        }
      ]
    },
    {
      "cell_type": "code",
      "source": [
        "#List\n",
        "a_list = [1,2,3]\n",
        "a_list[1] = 4\n",
        "print(a_list)"
      ],
      "metadata": {
        "colab": {
          "base_uri": "https://localhost:8080/"
        },
        "id": "-lYSKFev1aD6",
        "outputId": "8887c562-c731-44f7-97db-5f9480c3a846"
      },
      "execution_count": 18,
      "outputs": [
        {
          "output_type": "stream",
          "name": "stdout",
          "text": [
            "[1, 4, 3]\n"
          ]
        }
      ]
    },
    {
      "cell_type": "code",
      "source": [
        "gen = range(10)\n",
        "gen"
      ],
      "metadata": {
        "colab": {
          "base_uri": "https://localhost:8080/"
        },
        "id": "Y5Ig8loO1lny",
        "outputId": "0aef6159-bf4d-428c-9817-63de9d37b433"
      },
      "execution_count": 19,
      "outputs": [
        {
          "output_type": "execute_result",
          "data": {
            "text/plain": [
              "range(0, 10)"
            ]
          },
          "metadata": {},
          "execution_count": 19
        }
      ]
    },
    {
      "cell_type": "code",
      "source": [
        "list(gen)"
      ],
      "metadata": {
        "colab": {
          "base_uri": "https://localhost:8080/"
        },
        "id": "HxqNBYbW1y-d",
        "outputId": "5605ab23-7677-4b14-d270-ecbdb141f60c"
      },
      "execution_count": 21,
      "outputs": [
        {
          "output_type": "execute_result",
          "data": {
            "text/plain": [
              "[0, 1, 2, 3, 4, 5, 6, 7, 8, 9]"
            ]
          },
          "metadata": {},
          "execution_count": 21
        }
      ]
    },
    {
      "cell_type": "code",
      "source": [
        "b =  ['foo', 'bar', 'baz']\n",
        "b.append('qux')\n",
        "print(b)"
      ],
      "metadata": {
        "colab": {
          "base_uri": "https://localhost:8080/"
        },
        "id": "0Pt6PVWk2DEY",
        "outputId": "9babb914-7736-4476-c2a9-566bcce29d3c"
      },
      "execution_count": 22,
      "outputs": [
        {
          "output_type": "stream",
          "name": "stdout",
          "text": [
            "['foo', 'bar', 'baz', 'qux']\n"
          ]
        }
      ]
    },
    {
      "cell_type": "code",
      "source": [
        "b.insert(1,'red')\n",
        "print(b)"
      ],
      "metadata": {
        "colab": {
          "base_uri": "https://localhost:8080/"
        },
        "id": "7cmfNPOh2TOa",
        "outputId": "aaf751fe-56a5-42e2-8ef5-eac00f020b75"
      },
      "execution_count": 23,
      "outputs": [
        {
          "output_type": "stream",
          "name": "stdout",
          "text": [
            "['foo', 'red', 'bar', 'baz', 'qux']\n"
          ]
        }
      ]
    },
    {
      "cell_type": "code",
      "source": [
        "b.pop(2)\n",
        "b"
      ],
      "metadata": {
        "colab": {
          "base_uri": "https://localhost:8080/"
        },
        "id": "OnhNtYhN2ned",
        "outputId": "3e33ff02-ceb1-4c11-a574-76ea230da183"
      },
      "execution_count": 24,
      "outputs": [
        {
          "output_type": "execute_result",
          "data": {
            "text/plain": [
              "['foo', 'red', 'baz', 'qux']"
            ]
          },
          "metadata": {},
          "execution_count": 24
        }
      ]
    },
    {
      "cell_type": "code",
      "source": [
        "b.remove('red')\n",
        "b"
      ],
      "metadata": {
        "colab": {
          "base_uri": "https://localhost:8080/"
        },
        "id": "tGJEyxaQ2uBU",
        "outputId": "b3a8858b-a873-49bf-f8ed-2be01d488d7b"
      },
      "execution_count": 25,
      "outputs": [
        {
          "output_type": "execute_result",
          "data": {
            "text/plain": [
              "['foo', 'baz', 'qux']"
            ]
          },
          "metadata": {},
          "execution_count": 25
        }
      ]
    },
    {
      "cell_type": "code",
      "source": [
        "'foo' in b"
      ],
      "metadata": {
        "colab": {
          "base_uri": "https://localhost:8080/"
        },
        "id": "MTdKgsCV24De",
        "outputId": "de8871f1-7552-40fd-b1fb-6ea6d15df3b3"
      },
      "execution_count": 27,
      "outputs": [
        {
          "output_type": "execute_result",
          "data": {
            "text/plain": [
              "True"
            ]
          },
          "metadata": {},
          "execution_count": 27
        }
      ]
    },
    {
      "cell_type": "code",
      "source": [
        "'red' not in b"
      ],
      "metadata": {
        "colab": {
          "base_uri": "https://localhost:8080/"
        },
        "id": "bICPUmHA3FOv",
        "outputId": "e04b1399-4274-4227-bf11-1b4127d10f3f"
      },
      "execution_count": 28,
      "outputs": [
        {
          "output_type": "execute_result",
          "data": {
            "text/plain": [
              "True"
            ]
          },
          "metadata": {},
          "execution_count": 28
        }
      ]
    },
    {
      "cell_type": "code",
      "source": [
        "[4,None,'foo'] + [7,8,(9,10)]"
      ],
      "metadata": {
        "colab": {
          "base_uri": "https://localhost:8080/"
        },
        "id": "_tzYf0UV3Z_j",
        "outputId": "663ddb01-562f-4862-83de-5d8859258cba"
      },
      "execution_count": 29,
      "outputs": [
        {
          "output_type": "execute_result",
          "data": {
            "text/plain": [
              "[4, None, 'foo', 7, 8, (9, 10)]"
            ]
          },
          "metadata": {},
          "execution_count": 29
        }
      ]
    },
    {
      "cell_type": "code",
      "source": [
        "x = [4,None,'foo']\n",
        "x.extend([7,8,(9,10)])\n",
        "print(x)"
      ],
      "metadata": {
        "colab": {
          "base_uri": "https://localhost:8080/"
        },
        "id": "-5wQIF_d3lFJ",
        "outputId": "b248d877-54c8-4ab4-afb2-ccf67bb1387b"
      },
      "execution_count": 30,
      "outputs": [
        {
          "output_type": "stream",
          "name": "stdout",
          "text": [
            "[4, None, 'foo', 7, 8, (9, 10)]\n"
          ]
        }
      ]
    },
    {
      "cell_type": "code",
      "source": [
        "a = [3,8,1,5]\n",
        "a.sort()\n",
        "a"
      ],
      "metadata": {
        "colab": {
          "base_uri": "https://localhost:8080/"
        },
        "id": "5dXS5n6G3w9d",
        "outputId": "455b9d23-0256-4d43-d31e-787938ffe0c1"
      },
      "execution_count": 31,
      "outputs": [
        {
          "output_type": "execute_result",
          "data": {
            "text/plain": [
              "[1, 3, 5, 8]"
            ]
          },
          "metadata": {},
          "execution_count": 31
        }
      ]
    },
    {
      "cell_type": "code",
      "source": [
        "b = ['abcd','at','bye']\n",
        "b.sort(key=len)\n",
        "b"
      ],
      "metadata": {
        "colab": {
          "base_uri": "https://localhost:8080/"
        },
        "id": "YTlW8ijw34pk",
        "outputId": "f0c3c6b7-b5ff-4fb3-d986-18c16a60a908"
      },
      "execution_count": 32,
      "outputs": [
        {
          "output_type": "execute_result",
          "data": {
            "text/plain": [
              "['at', 'bye', 'abcd']"
            ]
          },
          "metadata": {},
          "execution_count": 32
        }
      ]
    },
    {
      "cell_type": "code",
      "source": [
        "seq = [7,2,3,7,5,6,0,1]\n",
        "seq[1:5]"
      ],
      "metadata": {
        "colab": {
          "base_uri": "https://localhost:8080/"
        },
        "id": "1njGYusd4qvj",
        "outputId": "4adf85c4-b217-409e-b911-42f55d18205b"
      },
      "execution_count": 33,
      "outputs": [
        {
          "output_type": "execute_result",
          "data": {
            "text/plain": [
              "[2, 3, 7, 5]"
            ]
          },
          "metadata": {},
          "execution_count": 33
        }
      ]
    },
    {
      "cell_type": "code",
      "source": [
        "seq[3:4] = [2,0]\n",
        "seq"
      ],
      "metadata": {
        "colab": {
          "base_uri": "https://localhost:8080/"
        },
        "id": "RHnFxSv-4vGL",
        "outputId": "cdf3ffaf-44d8-43b8-a039-896f96527538"
      },
      "execution_count": 34,
      "outputs": [
        {
          "output_type": "execute_result",
          "data": {
            "text/plain": [
              "[7, 2, 3, 2, 0, 5, 6, 0, 1]"
            ]
          },
          "metadata": {},
          "execution_count": 34
        }
      ]
    },
    {
      "cell_type": "code",
      "source": [
        "t = seq[:5]\n",
        "v = seq[5:]\n",
        "print(t)\n",
        "print(v)"
      ],
      "metadata": {
        "colab": {
          "base_uri": "https://localhost:8080/"
        },
        "id": "Iq9dpKTR42RL",
        "outputId": "0c296d9f-e2ac-47fd-d866-173acf5450e6"
      },
      "execution_count": 35,
      "outputs": [
        {
          "output_type": "stream",
          "name": "stdout",
          "text": [
            "[7, 2, 3, 2, 0]\n",
            "[5, 6, 0, 1]\n"
          ]
        }
      ]
    },
    {
      "cell_type": "code",
      "source": [
        "seq[-4:]"
      ],
      "metadata": {
        "colab": {
          "base_uri": "https://localhost:8080/"
        },
        "id": "33vo-70T5fgl",
        "outputId": "4492313c-e6b9-42d9-fd05-63c1b9f8d4ea"
      },
      "execution_count": 36,
      "outputs": [
        {
          "output_type": "execute_result",
          "data": {
            "text/plain": [
              "[5, 6, 0, 1]"
            ]
          },
          "metadata": {},
          "execution_count": 36
        }
      ]
    },
    {
      "cell_type": "code",
      "source": [
        "seq[::2]"
      ],
      "metadata": {
        "colab": {
          "base_uri": "https://localhost:8080/"
        },
        "id": "CqPMLb1y56-H",
        "outputId": "b4b75854-5054-4ab9-ef85-2fc67a90de80"
      },
      "execution_count": 37,
      "outputs": [
        {
          "output_type": "execute_result",
          "data": {
            "text/plain": [
              "[7, 3, 0, 6, 1]"
            ]
          },
          "metadata": {},
          "execution_count": 37
        }
      ]
    },
    {
      "cell_type": "code",
      "source": [
        "seq[::-1]"
      ],
      "metadata": {
        "colab": {
          "base_uri": "https://localhost:8080/"
        },
        "id": "gmvGJ73r6Ag1",
        "outputId": "5dab8232-5274-4777-c98f-a47e1c3b16e9"
      },
      "execution_count": 38,
      "outputs": [
        {
          "output_type": "execute_result",
          "data": {
            "text/plain": [
              "[1, 0, 6, 5, 0, 2, 3, 2, 7]"
            ]
          },
          "metadata": {},
          "execution_count": 38
        }
      ]
    },
    {
      "cell_type": "code",
      "source": [
        "#Dictionary\n",
        "empty_dict = {}\n",
        "d1 = {'a':'blue','b':[1,2,3,4]}\n",
        "d1"
      ],
      "metadata": {
        "colab": {
          "base_uri": "https://localhost:8080/"
        },
        "id": "5t1CPyVdDRSY",
        "outputId": "ddca9159-ef5b-4ac2-ed8c-a59c2c66a4ff"
      },
      "execution_count": 39,
      "outputs": [
        {
          "output_type": "execute_result",
          "data": {
            "text/plain": [
              "{'a': 'blue', 'b': [1, 2, 3, 4]}"
            ]
          },
          "metadata": {},
          "execution_count": 39
        }
      ]
    },
    {
      "cell_type": "code",
      "source": [
        "d1[8] = 'example'\n",
        "d1"
      ],
      "metadata": {
        "colab": {
          "base_uri": "https://localhost:8080/"
        },
        "id": "AGSg-13KD6-k",
        "outputId": "39138cf6-5f81-4e56-e6a4-64f23d0c366f"
      },
      "execution_count": 40,
      "outputs": [
        {
          "output_type": "execute_result",
          "data": {
            "text/plain": [
              "{'a': 'blue', 'b': [1, 2, 3, 4], 8: 'example'}"
            ]
          },
          "metadata": {},
          "execution_count": 40
        }
      ]
    },
    {
      "cell_type": "code",
      "source": [
        "del d1[8]\n",
        "d1"
      ],
      "metadata": {
        "colab": {
          "base_uri": "https://localhost:8080/"
        },
        "id": "ENSL9cNJEPTY",
        "outputId": "79f6f679-f9d2-4bc4-cbd4-47f54c5d2e4b"
      },
      "execution_count": 41,
      "outputs": [
        {
          "output_type": "execute_result",
          "data": {
            "text/plain": [
              "{'a': 'blue', 'b': [1, 2, 3, 4]}"
            ]
          },
          "metadata": {},
          "execution_count": 41
        }
      ]
    },
    {
      "cell_type": "code",
      "source": [
        "ret = d1.pop('b')\n",
        "ret"
      ],
      "metadata": {
        "colab": {
          "base_uri": "https://localhost:8080/"
        },
        "id": "LDSDE_gUEdlm",
        "outputId": "f0717f6a-a55c-4ea9-e408-24c97d2c5bc8"
      },
      "execution_count": 42,
      "outputs": [
        {
          "output_type": "execute_result",
          "data": {
            "text/plain": [
              "[1, 2, 3, 4]"
            ]
          },
          "metadata": {},
          "execution_count": 42
        }
      ]
    },
    {
      "cell_type": "code",
      "source": [
        "keys = list(d1.keys())\n",
        "values = list(d1.values())\n",
        "items = list(d1.items())\n",
        "updated_dict = d1.update({'c':12})\n",
        "print(keys)\n",
        "print(values)\n",
        "print(items)\n",
        "print(updated_dict)"
      ],
      "metadata": {
        "colab": {
          "base_uri": "https://localhost:8080/"
        },
        "id": "sbD70WkxE5BA",
        "outputId": "37771981-6f7f-4070-90f6-910d53bdc68b"
      },
      "execution_count": 43,
      "outputs": [
        {
          "output_type": "stream",
          "name": "stdout",
          "text": [
            "['a']\n",
            "['blue']\n",
            "[('a', 'blue')]\n",
            "None\n"
          ]
        }
      ]
    },
    {
      "cell_type": "code",
      "source": [
        "tuples = zip(range(5),reversed(range(5)))\n",
        "dict(tuples)"
      ],
      "metadata": {
        "colab": {
          "base_uri": "https://localhost:8080/"
        },
        "id": "43fxmM8ZFY48",
        "outputId": "0a7134fe-5155-4487-e9f2-09932abfdd00"
      },
      "execution_count": 44,
      "outputs": [
        {
          "output_type": "execute_result",
          "data": {
            "text/plain": [
              "{0: 4, 1: 3, 2: 2, 3: 1, 4: 0}"
            ]
          },
          "metadata": {},
          "execution_count": 44
        }
      ]
    },
    {
      "cell_type": "code",
      "source": [
        "#set\n",
        "a = {1,2,3}\n",
        "b = {3,4,5}\n",
        "print(c)\n",
        "print(a.union(b))\n",
        "print(a|b)\n",
        "print(a.intersection(b))\n",
        "print(a&b)\n",
        "print(a-b)\n",
        "c=a.copy()\n",
        "print(c)"
      ],
      "metadata": {
        "colab": {
          "base_uri": "https://localhost:8080/"
        },
        "id": "Ew9Fnp2hGBnb",
        "outputId": "346084b2-1f70-490d-9abf-5d140ede8a65"
      },
      "execution_count": 46,
      "outputs": [
        {
          "output_type": "stream",
          "name": "stdout",
          "text": [
            "{1, 2, 3}\n",
            "{1, 2, 3, 4, 5}\n",
            "{1, 2, 3, 4, 5}\n",
            "{3}\n",
            "{3}\n",
            "{1, 2}\n",
            "{1, 2, 3}\n"
          ]
        }
      ]
    }
  ]
}