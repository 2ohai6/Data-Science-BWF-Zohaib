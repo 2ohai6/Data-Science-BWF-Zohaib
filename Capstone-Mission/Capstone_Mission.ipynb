{
  "nbformat": 4,
  "nbformat_minor": 0,
  "metadata": {
    "colab": {
      "provenance": []
    },
    "kernelspec": {
      "name": "python3",
      "display_name": "Python 3"
    },
    "language_info": {
      "name": "python"
    }
  },
  "cells": [
    {
      "cell_type": "markdown",
      "source": [
        "**Capstone Mission - Contact Management System**"
      ],
      "metadata": {
        "id": "78HnA56JzliS"
      }
    },
    {
      "cell_type": "code",
      "source": [
        "class Contact:\n",
        "    def __init__(self, name, phone, email):\n",
        "        self.name = name\n",
        "        self.phone = phone\n",
        "        self.email = email\n",
        "\n",
        "    def update(self, name=None, phone=None, email=None):\n",
        "        if name:\n",
        "            self.name = name\n",
        "        if phone:\n",
        "            self.phone = phone\n",
        "        if email:\n",
        "            self.email = email\n",
        "\n",
        "    def __str__(self):\n",
        "        return f\"Name: {self.name}, Phone: {self.phone}, Email: {self.email}\"\n"
      ],
      "metadata": {
        "id": "dDSAiCKlz_vk"
      },
      "execution_count": 8,
      "outputs": []
    },
    {
      "cell_type": "code",
      "source": [
        "class ContactManager:\n",
        "    def __init__(self):\n",
        "        self.contacts = []\n",
        "\n",
        "    def add_contact(self, contact):\n",
        "        self.contacts.append(contact)\n",
        "        print(f\"Contact '{contact.name}' added.\")\n",
        "\n",
        "    def view_contacts(self):\n",
        "        if not self.contacts:\n",
        "            print(\"No contacts available.\")\n",
        "        else:\n",
        "            for contact in self.contacts:\n",
        "                print(contact)\n",
        "\n",
        "    def update_contact(self, name, new_name=None, new_phone=None, new_email=None):\n",
        "        if not self.contacts:\n",
        "            print(\"No contacts available.\")\n",
        "        else:\n",
        "            for contact in self.contacts:\n",
        "              if contact.name == name:\n",
        "                 contact.update(new_name, new_phone, new_email)\n",
        "                 print(f\"Contact '{name}' updated.\")\n",
        "              else:\n",
        "                 print(f\"Contact '{name}' not found.\")\n",
        "\n",
        "    def delete_contact(self, name):\n",
        "        if not self.contacts:\n",
        "            print(\"No contacts available.\")\n",
        "        else:\n",
        "            for contact in self.contacts:\n",
        "               if contact.name == name:\n",
        "                 self.contacts.remove(contact)\n",
        "                 print(f\"Contact '{name}' deleted.\")\n",
        "               else:\n",
        "                 print(f\"Contact '{name}' not found.\")\n"
      ],
      "metadata": {
        "id": "wBTSDxyR2KWa"
      },
      "execution_count": 13,
      "outputs": []
    },
    {
      "cell_type": "code",
      "source": [
        "manager = ContactManager()\n",
        "\n",
        "while True:\n",
        "    print(\"\\nContact Manager\")\n",
        "    print(\"1. Add Contact\")\n",
        "    print(\"2. View Contacts\")\n",
        "    print(\"3. Update Contact\")\n",
        "    print(\"4. Delete Contact\")\n",
        "    print(\"5. Exit\")\n",
        "\n",
        "    choice = input(\"Enter your choice: \")\n",
        "\n",
        "    if choice == '1':\n",
        "        name = input(\"Enter name: \")\n",
        "        phone = input(\"Enter phone: \")\n",
        "        email = input(\"Enter email: \")\n",
        "        manager.add_contact(Contact(name, phone, email))\n",
        "    elif choice == '2':\n",
        "        manager.view_contacts()\n",
        "    elif choice == '3':\n",
        "        name = input(\"Enter the name of the contact to update: \")\n",
        "        new_name = input(\"Enter new name : \")\n",
        "        new_phone = input(\"Enter new phone : \")\n",
        "        new_email = input(\"Enter new email : \")\n",
        "        manager.update_contact(name, new_name, new_phone, new_email)\n",
        "    elif choice == '4':\n",
        "        name = input(\"Enter the name of the contact to delete: \")\n",
        "        manager.delete_contact(name)\n",
        "    elif choice == '5':\n",
        "        print(\"Exiting the contact manager\")\n",
        "        break\n",
        "    else:\n",
        "        print(\"Invalid choice try again\")"
      ],
      "metadata": {
        "colab": {
          "base_uri": "https://localhost:8080/"
        },
        "id": "9I8b4PnA2PRv",
        "outputId": "616a8db2-6bf3-4ac0-8879-9f467bc39114"
      },
      "execution_count": 14,
      "outputs": [
        {
          "output_type": "stream",
          "name": "stdout",
          "text": [
            "\n",
            "Contact Manager\n",
            "1. Add Contact\n",
            "2. View Contacts\n",
            "3. Update Contact\n",
            "4. Delete Contact\n",
            "5. Exit\n",
            "Enter your choice: 4\n",
            "Enter the name of the contact to delete: i\n",
            "No contacts available.\n",
            "\n",
            "Contact Manager\n",
            "1. Add Contact\n",
            "2. View Contacts\n",
            "3. Update Contact\n",
            "4. Delete Contact\n",
            "5. Exit\n",
            "Enter your choice: 1\n",
            "Enter name: ALi\n",
            "Enter phone: 03216776999\n",
            "Enter email: Ali56@gmail.com\n",
            "Contact 'ALi' added.\n",
            "\n",
            "Contact Manager\n",
            "1. Add Contact\n",
            "2. View Contacts\n",
            "3. Update Contact\n",
            "4. Delete Contact\n",
            "5. Exit\n",
            "Enter your choice: 3\n",
            "Enter the name of the contact to update: ALi\n",
            "Enter new name : \n",
            "Enter new phone : 03145678909\n",
            "Enter new email : \n",
            "Contact 'ALi' updated.\n",
            "\n",
            "Contact Manager\n",
            "1. Add Contact\n",
            "2. View Contacts\n",
            "3. Update Contact\n",
            "4. Delete Contact\n",
            "5. Exit\n",
            "Enter your choice: 2\n",
            "Name: ALi, Phone: 03145678909, Email: Ali56@gmail.com\n",
            "\n",
            "Contact Manager\n",
            "1. Add Contact\n",
            "2. View Contacts\n",
            "3. Update Contact\n",
            "4. Delete Contact\n",
            "5. Exit\n",
            "Enter your choice: 4\n",
            "Enter the name of the contact to delete: ALi\n",
            "Contact 'ALi' deleted.\n",
            "\n",
            "Contact Manager\n",
            "1. Add Contact\n",
            "2. View Contacts\n",
            "3. Update Contact\n",
            "4. Delete Contact\n",
            "5. Exit\n",
            "Enter your choice: 5\n",
            "Exiting the contact manager\n"
          ]
        }
      ]
    }
  ]
}