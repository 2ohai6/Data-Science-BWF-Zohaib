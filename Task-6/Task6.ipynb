{
  "nbformat": 4,
  "nbformat_minor": 0,
  "metadata": {
    "colab": {
      "provenance": []
    },
    "kernelspec": {
      "name": "python3",
      "display_name": "Python 3"
    },
    "language_info": {
      "name": "python"
    }
  },
  "cells": [
    {
      "cell_type": "markdown",
      "source": [
        "**Classes, Inheritance, Encapsulation**"
      ],
      "metadata": {
        "id": "FoWEFYkGKb1r"
      }
    },
    {
      "cell_type": "code",
      "source": [
        "class Dog:\n",
        "  def __init__(self, name, age):\n",
        "    self.name = name\n",
        "    self.age = age\n",
        "  def bark(self):\n",
        "    print(\"Woof!\")\n",
        "  def run(self):\n",
        "    print(\"Running...\")\n",
        "\n",
        "my_dog = Dog(\"Fido\", 3)\n",
        "my_dog.bark()\n",
        "my_dog.run()"
      ],
      "metadata": {
        "colab": {
          "base_uri": "https://localhost:8080/"
        },
        "id": "94TloQQ5KwRp",
        "outputId": "a0c50a86-fc1d-42f8-a529-a50082737545"
      },
      "execution_count": 2,
      "outputs": [
        {
          "output_type": "stream",
          "name": "stdout",
          "text": [
            "Woof!\n",
            "Running...\n"
          ]
        }
      ]
    },
    {
      "cell_type": "code",
      "source": [
        "#9-1. Restaurant\n",
        "class Restaurant:\n",
        "  def __init__(self, restaurant_name, cuisine_type):\n",
        "    self.restaurant_name = restaurant_name\n",
        "    self.cuisine_type = cuisine_type\n",
        "  def describe_restaurant(self):\n",
        "    print(f\"The restaurant {self.restaurant_name} serves {self.cuisine_type}.\")\n",
        "  def open_restaurant(self):\n",
        "    print(f\"The restaurant {self.restaurant_name} is open.\")\n",
        "\n",
        "r1 = Restaurant(\"Z\", \"Italian\")\n",
        "print(r1.restaurant_name)\n",
        "print(r1.cuisine_type)\n",
        "r1.describe_restaurant()\n",
        "r1.open_restaurant()"
      ],
      "metadata": {
        "colab": {
          "base_uri": "https://localhost:8080/"
        },
        "id": "UieKczKDLe1N",
        "outputId": "ce335379-95c6-4752-8975-a4e044bda7b7"
      },
      "execution_count": 3,
      "outputs": [
        {
          "output_type": "stream",
          "name": "stdout",
          "text": [
            "Z\n",
            "Italian\n",
            "The restaurant Z serves Italian.\n",
            "The restaurant Z is open.\n"
          ]
        }
      ]
    },
    {
      "cell_type": "code",
      "source": [
        "#9-2. Three Restaurants\n",
        "r1 = Restaurant(\"Z\", \"Italian\")\n",
        "r2 = Restaurant(\"Y\", \"Chinese\")\n",
        "r3 = Restaurant(\"X\", \"Japanese\")\n",
        "r1.describe_restaurant()\n",
        "r2.describe_restaurant()\n",
        "r3.describe_restaurant()"
      ],
      "metadata": {
        "colab": {
          "base_uri": "https://localhost:8080/"
        },
        "id": "AKp0Bz-9MvZI",
        "outputId": "070e559c-251a-4db8-fff7-2e4ee61fe74c"
      },
      "execution_count": 4,
      "outputs": [
        {
          "output_type": "stream",
          "name": "stdout",
          "text": [
            "The restaurant Z serves Italian.\n",
            "The restaurant Y serves Chinese.\n",
            "The restaurant X serves Japanese.\n"
          ]
        }
      ]
    },
    {
      "cell_type": "code",
      "source": [
        "#9-3. Users\n",
        "class User:\n",
        "  def __init__(self, first_name, last_name, age):\n",
        "    self.first_name = first_name\n",
        "    self.last_name = last_name\n",
        "    self.age = age\n",
        "  def describe_user(self):\n",
        "    print(f\"User Full Name: {self.first_name} {self.last_name}\")\n",
        "    print(f\"User Age: {self.age}\")\n",
        "  def greet_user(self):\n",
        "    print(f\"Salam, {self.first_name} {self.last_name}.\")\n",
        "\n",
        "u1 = User(\"Ali\", \"Amad\", 20)\n",
        "u2 = User(\"Waleed\", \"Raza\", 23)\n",
        "\n",
        "u1.describe_user()\n",
        "u1.greet_user()\n",
        "\n",
        "u2.describe_user()\n",
        "u2.greet_user()"
      ],
      "metadata": {
        "colab": {
          "base_uri": "https://localhost:8080/"
        },
        "id": "1zHRFi3oNCuS",
        "outputId": "33131e29-b48c-45b6-90f4-1ca47d9f4a1e"
      },
      "execution_count": 6,
      "outputs": [
        {
          "output_type": "stream",
          "name": "stdout",
          "text": [
            "User Full Name: Ali Amad\n",
            "User Age: 20\n",
            "Salam, Ali Amad.\n",
            "User Full Name: Waleed Raza\n",
            "User Age: 23\n",
            "Salam, Waleed Raza.\n"
          ]
        }
      ]
    },
    {
      "cell_type": "code",
      "source": [
        "#9-4. Number Served\n",
        "class Restaurant:\n",
        "  def __init__(self, restaurant_name, cuisine_type):\n",
        "    self.restaurant_name = restaurant_name\n",
        "    self.cuisine_type = cuisine_type\n",
        "    self.number_served = 0\n",
        "  def describe_restaurant(self):\n",
        "    print(f\"The restaurant {self.restaurant_name} serves {self.cuisine_type}.\")\n",
        "  def open_restaurant(self):\n",
        "    print(f\"The restaurant {self.restaurant_name} is open.\")\n",
        "\n",
        "r1 = Restaurant(\"Z\", \"Italian\")\n",
        "print(r1.number_served)\n",
        "r1.number_served = 10\n",
        "print(r1.number_served)\n",
        "\n",
        "class Restaurant:\n",
        "  def __init__(self, restaurant_name, cuisine_type):\n",
        "    self.restaurant_name = restaurant_name\n",
        "    self.cuisine_type = cuisine_type\n",
        "    self.number_served = 0\n",
        "  def describe_restaurant(self):\n",
        "    print(f\"The restaurant {self.restaurant_name} serves {self.cuisine_type}.\")\n",
        "  def open_restaurant(self):\n",
        "    print(f\"The restaurant {self.restaurant_name} is open.\")\n",
        "  def set_number_served(self, number_served):\n",
        "    self.number_served = number_served\n",
        "  def increment_number_served(self, increment):\n",
        "    self.number_served += increment\n",
        "\n",
        "r1 = Restaurant(\"Z\", \"Italian\")\n",
        "print(r1.number_served)\n",
        "r1.set_number_served(10)\n",
        "print(r1.number_served)\n",
        "r1.increment_number_served(5)\n",
        "print(r1.number_served)"
      ],
      "metadata": {
        "colab": {
          "base_uri": "https://localhost:8080/"
        },
        "id": "7e2tuSwFOVd-",
        "outputId": "8faee8f9-832f-466f-b676-74b392538a58"
      },
      "execution_count": 8,
      "outputs": [
        {
          "output_type": "stream",
          "name": "stdout",
          "text": [
            "0\n",
            "10\n",
            "0\n",
            "10\n",
            "15\n"
          ]
        }
      ]
    },
    {
      "cell_type": "code",
      "source": [
        "#9-6. Ice Cream Stand\n",
        "class IceCreamStand(Restaurant):\n",
        "  def __init__(self, restaurant_name, cuisine_type):\n",
        "    super().__init__(restaurant_name, cuisine_type)\n",
        "    self.flavors = [\"Vanilla\", \"Chocolate\", \"Strawberry\"]\n",
        "  def displayFlavors(self):\n",
        "    print(\"Icecream flavors:\")\n",
        "    for flavor in self.flavors:\n",
        "      print(flavor)\n",
        "\n",
        "i = IceCreamStand(\"Walls\", \"Icecreams\")\n",
        "i.displayFlavors()"
      ],
      "metadata": {
        "colab": {
          "base_uri": "https://localhost:8080/"
        },
        "id": "tSs_23IDQPwR",
        "outputId": "5ecea3e5-6c28-4780-faaf-81b03507fc15"
      },
      "execution_count": 9,
      "outputs": [
        {
          "output_type": "stream",
          "name": "stdout",
          "text": [
            "Icecream flavors:\n",
            "Vanilla\n",
            "Chocolate\n",
            "Strawberry\n"
          ]
        }
      ]
    },
    {
      "cell_type": "code",
      "source": [
        "#9-7. Admin\n",
        "class Admin(User):\n",
        "  def __init__(self, first_name, last_name, age):\n",
        "    super().__init__(first_name, last_name, age)\n",
        "    self.privileges = [\"can add post\", \"can delete post\", \"can ban user\"]\n",
        "  def show_privileges(self):\n",
        "    print(\"Admin Privileges:\")\n",
        "    for privilege in self.privileges:\n",
        "      print(privilege)\n",
        "\n",
        "a = Admin(\"Ali\", \"Amad\", 20)\n",
        "a.show_privileges()"
      ],
      "metadata": {
        "colab": {
          "base_uri": "https://localhost:8080/"
        },
        "id": "6eM4UztYUicq",
        "outputId": "2fbf0e1f-433c-4d1c-c6fe-b0afee5a41c9"
      },
      "execution_count": 11,
      "outputs": [
        {
          "output_type": "stream",
          "name": "stdout",
          "text": [
            "Admin Privileges:\n",
            "can add post\n",
            "can delete post\n",
            "can ban user\n"
          ]
        }
      ]
    }
  ]
}